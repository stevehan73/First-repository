{
  "metadata": {
    "kernelspec": {
      "name": "python",
      "display_name": "Python (Pyodide)",
      "language": "python"
    },
    "language_info": {
      "codemirror_mode": {
        "name": "python",
        "version": 3
      },
      "file_extension": ".py",
      "mimetype": "text/x-python",
      "name": "python",
      "nbconvert_exporter": "python",
      "pygments_lexer": "ipython3",
      "version": "3.8"
    }
  },
  "nbformat_minor": 5,
  "nbformat": 4,
  "cells": [
    {
      "id": "5fd6f4fb-4cac-4ef9-8e89-ff9487ba5e70",
      "cell_type": "markdown",
      "source": "# Data Science Tools and Ecosystem",
      "metadata": {}
    },
    {
      "id": "f88ff719-4db9-497c-9049-cd7cc5040574",
      "cell_type": "markdown",
      "source": "In this notebook, Data Science Tools and ecosystem are summarized.",
      "metadata": {}
    },
    {
      "id": "2161c74b-faf0-43e7-ba07-82e5c883cdcc",
      "cell_type": "markdown",
      "source": "***Objectives:***\n- List of popular languages for Data Science\n- List of popular libraries for Data Science\n- List of popular tools for Data Science",
      "metadata": {}
    },
    {
      "id": "7e156b54-1511-4325-9005-c048b5b91e4b",
      "cell_type": "markdown",
      "source": "Some of the popular languages that Data Scientis use are:\n1. Python\n2. R\n3. SQL",
      "metadata": {}
    },
    {
      "id": "0e42ba27-6dab-4c6c-ba29-74fe8fbc09e0",
      "cell_type": "markdown",
      "source": "Some of the commonly used libraries used by Data Scientists include:\n1. NumPy\n2. Pandas\n3. Matplotlib\n4. SciPy",
      "metadata": {}
    },
    {
      "id": "c8a3698f-301b-4841-b4e1-92bca95e87d4",
      "cell_type": "markdown",
      "source": "| Data Science Tools |\n| ------------------ |\n| Apache Spark |\n| TensorFlow |\n| Scikit-learn |\n| RStudio |",
      "metadata": {}
    },
    {
      "id": "a5fb8747-aa7e-4dff-93c4-0a6daa220d9c",
      "cell_type": "markdown",
      "source": "### Below are a few examples of evaluating arithmetic expressions in Python",
      "metadata": {}
    },
    {
      "id": "d10f8de9-d81d-4457-8b8e-3940a0296b18",
      "cell_type": "code",
      "source": "# This is a simple arithmetic expression to multiply then add integers\n(3*4)+5",
      "metadata": {
        "trusted": true
      },
      "outputs": [
        {
          "execution_count": 2,
          "output_type": "execute_result",
          "data": {
            "text/plain": "17"
          },
          "metadata": {}
        }
      ],
      "execution_count": 2
    },
    {
      "id": "9e6ae9ff-f600-44c9-921a-841ed42d96e6",
      "cell_type": "code",
      "source": "# This will convert 200 minutes to hours by dividing by 60\n200/60",
      "metadata": {
        "trusted": true
      },
      "outputs": [
        {
          "execution_count": 3,
          "output_type": "execute_result",
          "data": {
            "text/plain": "3.3333333333333335"
          },
          "metadata": {}
        }
      ],
      "execution_count": 3
    },
    {
      "id": "6aa991a2-7a84-4274-82c3-4f04afd6806b",
      "cell_type": "markdown",
      "source": "## Author",
      "metadata": {}
    },
    {
      "id": "4a830447-c83a-4195-96e3-65ca0b402a0a",
      "cell_type": "markdown",
      "source": "Steven Han",
      "metadata": {}
    },
    {
      "id": "0b5732c0-9ee9-4898-80d1-73b5213668eb",
      "cell_type": "code",
      "source": "",
      "metadata": {
        "trusted": true
      },
      "outputs": [],
      "execution_count": null
    }
  ]
}